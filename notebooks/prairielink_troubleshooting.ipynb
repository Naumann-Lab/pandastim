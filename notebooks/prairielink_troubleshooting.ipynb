{
 "cells": [
  {
   "cell_type": "code",
   "execution_count": 1,
   "id": "466b7585",
   "metadata": {},
   "outputs": [],
   "source": [
    "import win32com.client\n",
    "import time\n",
    "import threading\n",
    "import matplotlib.pyplot as plt\n",
    "import numpy as np\n",
    "from ctypes  import *\n",
    "import array\n",
    "import timeit"
   ]
  },
  {
   "cell_type": "code",
   "execution_count": 2,
   "id": "b581666b",
   "metadata": {},
   "outputs": [
    {
     "name": "stdout",
     "output_type": "stream",
     "text": [
      "Connected via PrairieLink\n"
     ]
    }
   ],
   "source": [
    "#connect to PrairieView\n",
    "pl = win32com.client.Dispatch(\"PrairieLink.Application\")\n",
    "\n",
    "pl.Connect()\n",
    "#print a message if successfully connected\n",
    "if(pl.Connected()):\n",
    "    print(\"Connected via PrairieLink\")\n",
    "\n",
    "# print(pl.GetMotorPosition(\"Z\"))\n",
    "\n",
    "# pl.MoveMotor(\"Z\" 10) \n",
    "\n",
    "# print(pl.GetMotorPosition(\"Z\"))"
   ]
  },
  {
   "cell_type": "code",
   "execution_count": 4,
   "id": "9974c2a3",
   "metadata": {},
   "outputs": [],
   "source": [
    "# pl.MoveMotor(\"'Z' '20'\") \n",
    "no = -10\n",
    "pl.SendScriptCommands(f\"-SetMotorPosition 'X' '{no}'\")\n",
    "time.sleep(0.033)"
   ]
  },
  {
   "cell_type": "code",
   "execution_count": 6,
   "id": "16154638",
   "metadata": {},
   "outputs": [
    {
     "name": "stdout",
     "output_type": "stream",
     "text": [
      "save path\n"
     ]
    },
    {
     "data": {
      "text/plain": [
       "True"
      ]
     },
     "execution_count": 6,
     "metadata": {},
     "output_type": "execute_result"
    }
   ],
   "source": [
    "# making save path\n",
    "imaging_dir = str('E:/Kaitlyn/automation_testing/')\n",
    "print('save path set')\n",
    "pl.SendScriptCommands(\"-SetSavePath {}\".format(imaging_dir))\n",
    "# begin a live scan\n",
    "pl.SendScriptCommands('-lv')"
   ]
  },
  {
   "cell_type": "code",
   "execution_count": 7,
   "id": "acb4d387",
   "metadata": {},
   "outputs": [
    {
     "data": {
      "text/plain": [
       "True"
      ]
     },
     "execution_count": 7,
     "metadata": {},
     "output_type": "execute_result"
    }
   ],
   "source": [
    " #stop the scan\n",
    "pl.SendScriptCommands('-stop')"
   ]
  },
  {
   "cell_type": "code",
   "execution_count": 49,
   "id": "231ce019",
   "metadata": {},
   "outputs": [
    {
     "data": {
      "text/plain": [
       "True"
      ]
     },
     "execution_count": 49,
     "metadata": {},
     "output_type": "execute_result"
    }
   ],
   "source": [
    "current_z = pl.GetMotorPosition(\"Z\")\n",
    "new_z = current_z + 5\n",
    "pl.SendScriptCommands(f\"-SetMotorPosition 'Z' '{new_z}'\")"
   ]
  },
  {
   "cell_type": "code",
   "execution_count": 21,
   "id": "721c8024",
   "metadata": {},
   "outputs": [
    {
     "data": {
      "text/plain": [
       "10.025"
      ]
     },
     "execution_count": 21,
     "metadata": {},
     "output_type": "execute_result"
    }
   ],
   "source": [
    "pl.GetMotorPosition(\"Z\")"
   ]
  },
  {
   "cell_type": "code",
   "execution_count": 40,
   "id": "c9252eb9",
   "metadata": {},
   "outputs": [
    {
     "data": {
      "text/plain": [
       "'E:/Kaitlyn/automation_testing/testing_0.txt'"
      ]
     },
     "execution_count": 40,
     "metadata": {},
     "output_type": "execute_result"
    }
   ],
   "source": [
    "n = 0 \n",
    "pstim_p = \"E:/Kaitlyn/automation_testing/testing_\" + str(n) + \".txt\"\n",
    "pstim_p"
   ]
  },
  {
   "cell_type": "code",
   "execution_count": 41,
   "id": "08ff597d",
   "metadata": {},
   "outputs": [
    {
     "data": {
      "text/plain": [
       "'E:/Kaitlyn/automation_testing/testing_0.txt'"
      ]
     },
     "execution_count": 41,
     "metadata": {},
     "output_type": "execute_result"
    }
   ],
   "source": [
    "r'%s' % pstim_p"
   ]
  },
  {
   "cell_type": "code",
   "execution_count": 44,
   "id": "1ae9450b",
   "metadata": {},
   "outputs": [
    {
     "name": "stdout",
     "output_type": "stream",
     "text": [
      "Tue Oct 17 15:26:12 2023\n",
      "Tue Oct 17 15:26:22 2023\n",
      "Tue Oct 17 15:26:22 2023\n",
      "Tue Oct 17 15:26:32 2023\n",
      "Tue Oct 17 15:26:32 2023\n",
      "Tue Oct 17 15:26:42 2023\n"
     ]
    }
   ],
   "source": [
    "for j in range(3):\n",
    "    print(time.ctime())\n",
    "    time.sleep(int(10))\n",
    "    print(time.ctime())"
   ]
  },
  {
   "cell_type": "code",
   "execution_count": 63,
   "id": "3319dd62",
   "metadata": {},
   "outputs": [
    {
     "name": "stdout",
     "output_type": "stream",
     "text": [
      "plane_0\n",
      "starting t series for plane 0, current z is 34.975\n",
      "scan done\n",
      "moved to 39.975 with stack\n",
      "plane_1\n",
      "starting t series for plane 1, current z is 39.975\n",
      "scan done\n",
      "moved to 44.975 with stack\n",
      "plane_2\n",
      "starting t series for plane 2, current z is 44.975\n",
      "scan done\n",
      "moved to 49.975 with stack\n"
     ]
    }
   ],
   "source": [
    "no_planes = 3\n",
    "for n in range(no_planes):\n",
    "    current_z = pl.GetMotorPosition(\"Z\")        \n",
    "    imaging_filename = str(f'plane_{n}')\n",
    "    print(imaging_filename)\n",
    "    pl.SendScriptCommands(\"-SetFileName Tseries {}\".format(imaging_filename))\n",
    "\n",
    "    print(f'starting t series for plane {n}, current z is {current_z}')\n",
    "    pl.SendScriptCommands(\"-TSeries\") # current t-series set up\n",
    "\n",
    "    pl.SendScriptCommands(\"-WaitForScan\")\n",
    "    print('scan done')\n",
    "\n",
    "    # changing z\n",
    "    new_z = current_z + 5\n",
    "    pl.SendScriptCommands(f\"-SetMotorPosition 'Z' '{new_z}' 'True'\")\n",
    "    pl.SendScriptCommands(\"-WaitForScan\")\n",
    "    print(f'moved to {new_z} with stack')\n"
   ]
  },
  {
   "cell_type": "code",
   "execution_count": 58,
   "id": "b7d007ab",
   "metadata": {},
   "outputs": [
    {
     "data": {
      "text/plain": [
       "True"
      ]
     },
     "execution_count": 58,
     "metadata": {},
     "output_type": "execute_result"
    }
   ],
   "source": [
    "pl.SendScriptCommands(f\"-SetMotorPosition 'Z' '{new_z}' 'True'\")"
   ]
  },
  {
   "cell_type": "code",
   "execution_count": 61,
   "id": "c06aaf4b",
   "metadata": {},
   "outputs": [
    {
     "name": "stdout",
     "output_type": "stream",
     "text": [
      "105.0\n",
      "109.975\n",
      "114.975\n"
     ]
    }
   ],
   "source": [
    "for n in range(no_planes):\n",
    "    current_z = pl.GetMotorPosition(\"Z\")\n",
    "    print(current_z)\n",
    "    new_z = current_z + 5\n",
    "    pl.SendScriptCommands(f\"-SetMotorPosition 'Z' '{new_z}' 'True'\")"
   ]
  },
  {
   "cell_type": "code",
   "execution_count": 4,
   "id": "1f928bbe",
   "metadata": {},
   "outputs": [
    {
     "data": {
      "text/plain": [
       "True"
      ]
     },
     "execution_count": 4,
     "metadata": {},
     "output_type": "execute_result"
    }
   ],
   "source": [
    "# changing laser power\n",
    "\n",
    "pl.SendScriptCommands(\"-SetLaserPower 'Axon 920' '100' \")"
   ]
  },
  {
   "cell_type": "code",
   "execution_count": 6,
   "id": "347d0190",
   "metadata": {},
   "outputs": [
    {
     "name": "stdout",
     "output_type": "stream",
     "text": [
      "testing0\n",
      "scan done\n",
      "testing1\n",
      "scan done\n",
      "testing2\n",
      "scan done\n",
      "testing3\n",
      "scan done\n",
      "testing4\n",
      "scan done\n",
      "testing5\n",
      "scan done\n",
      "testing6\n",
      "scan done\n",
      "testing7\n",
      "scan done\n",
      "testing8\n",
      "scan done\n",
      "testing9\n",
      "scan done\n",
      "testing10\n",
      "scan done\n",
      "testing11\n",
      "scan done\n"
     ]
    }
   ],
   "source": [
    "no_timepts = 12\n",
    "hrs_btwn = 3\n",
    "for i in range(no_timepts):\n",
    "    imaging_filename = str(f'testing{i}')\n",
    "    print(imaging_filename)\n",
    "    pl.SendScriptCommands(\"-SetFileName Tseries {}\".format(imaging_filename))\n",
    "\n",
    "    pl.SendScriptCommands(\"-SetLaserPower 'Axon 920' '205'\")\n",
    "\n",
    "    pl.SendScriptCommands(\"-TSeries\") # current t-series set up\n",
    "\n",
    "    pl.SendScriptCommands(\"-WaitForScan\")\n",
    "    print('scan done')\n",
    "\n",
    "    pl.SendScriptCommands(\"-SetLaserPower 'Axon 920' '0'\")\n",
    "\n",
    "    wait_secs = int(hrs_btwn * 60 * 60)\n",
    "    wait_secs = 10\n",
    "    \n",
    "    time.sleep(wait_secs)\n"
   ]
  },
  {
   "cell_type": "code",
   "execution_count": null,
   "id": "7d3ea8aa",
   "metadata": {},
   "outputs": [],
   "source": []
  }
 ],
 "metadata": {
  "kernelspec": {
   "display_name": "Python 3 (ipykernel)",
   "language": "python",
   "name": "python3"
  },
  "language_info": {
   "codemirror_mode": {
    "name": "ipython",
    "version": 3
   },
   "file_extension": ".py",
   "mimetype": "text/x-python",
   "name": "python",
   "nbconvert_exporter": "python",
   "pygments_lexer": "ipython3",
   "version": "3.11.4"
  }
 },
 "nbformat": 4,
 "nbformat_minor": 5
}
